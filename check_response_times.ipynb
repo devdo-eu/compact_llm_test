{
 "cells": [
  {
   "cell_type": "code",
   "execution_count": 1,
   "id": "5761e328-f604-46c1-bd5f-248d636b54b1",
   "metadata": {},
   "outputs": [],
   "source": [
    "import numpy as np\n",
    "import scipy.stats as stats"
   ]
  },
  {
   "cell_type": "code",
   "execution_count": null,
   "id": "b3dac15a-84fb-4e38-8ec4-8d00ae6c1319",
   "metadata": {},
   "outputs": [],
   "source": [
    "def analysis(response_times: list[float]):\n",
    "    data = np.array(response_times)\n",
    "    \n",
    "    # Podstawowe statystyki\n",
    "    n = len(data)\n",
    "    mean = np.mean(data)\n",
    "    median = np.median(data)\n",
    "    std = np.std(data, ddof=1)\n",
    "    var = np.var(data, ddof=1)\n",
    "    min_val = np.min(data)\n",
    "    max_val = np.max(data)\n",
    "    range_val = max_val - min_val\n",
    "    q1, q3 = np.percentile(data, [25, 75])\n",
    "    cv = std / mean\n",
    "    \n",
    "    # Skośność i kurtoza\n",
    "    skew = stats.skew(data)\n",
    "    kurt = stats.kurtosis(data)\n",
    "    \n",
    "    # Wyniki\n",
    "    print(f\"Liczba elementów: {n}\")\n",
    "    print(f\"Średnia: {mean:.6f} s.\")\n",
    "    print(f\"Mediana: {median:.6f} s.\")\n",
    "    print(f\"Odchylenie standardowe: {std:.6f}\")\n",
    "    print(f\"Wariancja: {var:.6f}\")\n",
    "    print(f\"Minimum: {min_val:.6f} s.\")\n",
    "    print(f\"Maksimum: {max_val:.6f} s.\")\n",
    "    print(f\"Zakres: {range_val:.6f}\")\n",
    "    # print(f\"Q1: {q1:.6f}, Q3: {q3:.6f}\")\n",
    "    # print(f\"Współczynnik zmienności: {cv:.6f}\")\n",
    "    # print(f\"Skośność: {skew:.6f}\")\n",
    "    # print(f\"Kurtoza: {kurt:.6f}\")"
   ]
  },
  {
   "cell_type": "code",
   "execution_count": 3,
   "id": "72f90549-5a81-4139-93a7-d9e31dff4d3b",
   "metadata": {},
   "outputs": [],
   "source": [
    "def make_analysis(filename: str, model_name: str):\n",
    "    with open(filename,'r') as f:\n",
    "        data = f.readlines()\n",
    "    cleaned = [float(d.split('\"time_to_answer\": ')[-1].replace('\\n','').replace('}','')) for d in data]\n",
    "    print(f\"### {model_name} ###\")\n",
    "    analysis(cleaned)"
   ]
  },
  {
   "cell_type": "code",
   "execution_count": 30,
   "id": "8e888bfb-89d9-4d86-9437-0351ef0ea44e",
   "metadata": {},
   "outputs": [
    {
     "name": "stdout",
     "output_type": "stream",
     "text": [
      "### speakleash/Bielik-11B-v2.6-Instruct ###\n",
      "Liczba elementów: 570\n",
      "Średnia: 0.866218 s.\n",
      "Mediana: 0.833895 s.\n",
      "Odchylenie standardowe: 0.242911\n",
      "Wariancja: 0.059006\n",
      "Minimum: 0.516010 s.\n",
      "Maksimum: 2.981905 s.\n",
      "Zakres: 2.465895\n"
     ]
    }
   ],
   "source": [
    "make_analysis('0experiment_bielik.jsonl', 'speakleash/Bielik-11B-v2.6-Instruct')"
   ]
  },
  {
   "cell_type": "code",
   "execution_count": 31,
   "id": "fa59d735-395e-49d1-9b2d-b8cf2196e0f6",
   "metadata": {},
   "outputs": [
    {
     "name": "stdout",
     "output_type": "stream",
     "text": [
      "### speakleash/Bielik-4.5B-v3.0-Instruct ###\n",
      "Liczba elementów: 570\n",
      "Średnia: 1.365756 s.\n",
      "Mediana: 1.382883 s.\n",
      "Odchylenie standardowe: 0.399028\n",
      "Wariancja: 0.159224\n",
      "Minimum: 0.712721 s.\n",
      "Maksimum: 8.890168 s.\n",
      "Zakres: 8.177447\n"
     ]
    }
   ],
   "source": [
    "make_analysis('0experiment_3_45_bielik.jsonl', 'speakleash/Bielik-4.5B-v3.0-Instruct')"
   ]
  },
  {
   "cell_type": "code",
   "execution_count": 7,
   "id": "ecb7ea83-1114-4c82-85fc-427c5c81f6ba",
   "metadata": {},
   "outputs": [
    {
     "name": "stdout",
     "output_type": "stream",
     "text": [
      "### speakleash/Bielik-4.5B-v3.0-Instruct ###\n",
      "Liczba elementów: 570\n",
      "Średnia: 1.227723 s.\n",
      "Mediana: 1.245332 s.\n",
      "Odchylenie standardowe: 0.350987\n",
      "Wariancja: 0.123192\n",
      "Minimum: 0.625281 s.\n",
      "Maksimum: 7.722096 s.\n",
      "Zakres: 7.096815\n"
     ]
    }
   ],
   "source": [
    "make_analysis('1experiment_3_45_bielik.jsonl', 'speakleash/Bielik-4.5B-v3.0-Instruct')"
   ]
  },
  {
   "cell_type": "code",
   "execution_count": 32,
   "id": "125a3f5c-9df1-46b7-8525-ecc96a48f7f0",
   "metadata": {},
   "outputs": [
    {
     "name": "stdout",
     "output_type": "stream",
     "text": [
      "### CYFRAGOVPL/PLLuM-12B-instruct ###\n",
      "Liczba elementów: 570\n",
      "Średnia: 1.208389 s.\n",
      "Mediana: 1.179872 s.\n",
      "Odchylenie standardowe: 0.634111\n",
      "Wariancja: 0.402096\n",
      "Minimum: 0.556281 s.\n",
      "Maksimum: 13.430074 s.\n",
      "Zakres: 12.873794\n"
     ]
    }
   ],
   "source": [
    "make_analysis('0experiment_pllum.jsonl', 'CYFRAGOVPL/PLLuM-12B-instruct')"
   ]
  },
  {
   "cell_type": "code",
   "execution_count": 33,
   "id": "b418724e-12e9-4096-b3c2-34b2b199ba97",
   "metadata": {},
   "outputs": [
    {
     "name": "stdout",
     "output_type": "stream",
     "text": [
      "### mistralai/Mistral-7B-Instruct-v0.3 ###\n",
      "Liczba elementów: 570\n",
      "Średnia: 0.541196 s.\n",
      "Mediana: 0.514613 s.\n",
      "Odchylenie standardowe: 0.142710\n",
      "Wariancja: 0.020366\n",
      "Minimum: 0.338615 s.\n",
      "Maksimum: 2.070267 s.\n",
      "Zakres: 1.731651\n"
     ]
    }
   ],
   "source": [
    "make_analysis('0experiment_mistral.jsonl', 'mistralai/Mistral-7B-Instruct-v0.3')"
   ]
  },
  {
   "cell_type": "code",
   "execution_count": 34,
   "id": "df22da00-85b4-46c7-bfdd-68551ffd01fd",
   "metadata": {},
   "outputs": [
    {
     "name": "stdout",
     "output_type": "stream",
     "text": [
      "### Qwen/Qwen2.5-14B-Instruct ###\n",
      "Liczba elementów: 570\n",
      "Średnia: 3.231882 s.\n",
      "Mediana: 2.966895 s.\n",
      "Odchylenie standardowe: 1.280674\n",
      "Wariancja: 1.640126\n",
      "Minimum: 1.643132 s.\n",
      "Maksimum: 16.774924 s.\n",
      "Zakres: 15.131792\n"
     ]
    }
   ],
   "source": [
    "make_analysis('0experiment_2_5_quen.jsonl', 'Qwen/Qwen2.5-14B-Instruct')"
   ]
  },
  {
   "cell_type": "code",
   "execution_count": 4,
   "id": "71774374-e73f-4ea5-9255-5e4ee5fb4c9d",
   "metadata": {},
   "outputs": [
    {
     "name": "stdout",
     "output_type": "stream",
     "text": [
      "### google/gemma-3-12b-it ###\n",
      "Liczba elementów: 570\n",
      "Średnia: 3.941761 s.\n",
      "Mediana: 3.735184 s.\n",
      "Odchylenie standardowe: 0.989446\n",
      "Wariancja: 0.979003\n",
      "Minimum: 2.255320 s.\n",
      "Maksimum: 12.938768 s.\n",
      "Zakres: 10.683449\n"
     ]
    }
   ],
   "source": [
    "make_analysis('0experiment_gemma3.jsonl', 'google/gemma-3-12b-it')"
   ]
  },
  {
   "cell_type": "code",
   "execution_count": 8,
   "id": "682213cf-39ad-4778-b0b5-7717ab9db152",
   "metadata": {},
   "outputs": [],
   "source": [
    "relative_times = {\n",
    "    'speakleash/Bielik-11B-v2.6-Instruct': 0.866218,\n",
    "    'speakleash/Bielik-4.5B-v3.0-Instruct': 1.227723,\n",
    "    'CYFRAGOVPL/PLLuM-12B-instruct': 1.208389,\n",
    "    'mistralai/Mistral-7B-Instruct-v0.3': 0.541196,\n",
    "    'Qwen/Qwen2.5-14B-Instruct': 3.231882,\n",
    "    'google/gemma-3-12b-it': 3.941761,\n",
    "}"
   ]
  },
  {
   "cell_type": "code",
   "execution_count": 10,
   "id": "5318f758-3414-4598-9960-74d90a39d397",
   "metadata": {},
   "outputs": [
    {
     "name": "stdout",
     "output_type": "stream",
     "text": [
      "speakleash/Bielik-11B-v2.6-Instruct - relative answer time: 160.0%\n",
      "speakleash/Bielik-4.5B-v3.0-Instruct - relative answer time: 227.0%\n",
      "CYFRAGOVPL/PLLuM-12B-instruct - relative answer time: 223.0%\n",
      "mistralai/Mistral-7B-Instruct-v0.3 - relative answer time: 100.0%\n",
      "Qwen/Qwen2.5-14B-Instruct - relative answer time: 597.0%\n",
      "google/gemma-3-12b-it - relative answer time: 728.0%\n"
     ]
    }
   ],
   "source": [
    "reference = relative_times['mistralai/Mistral-7B-Instruct-v0.3']\n",
    "for model, time in relative_times.items():\n",
    "    print(f\"{model} - relative answer time: {100*round(time/reference, 2)}%\")"
   ]
  },
  {
   "cell_type": "code",
   "execution_count": null,
   "id": "74e39753-1ce7-4a8a-887c-f0a6b2d2f254",
   "metadata": {},
   "outputs": [],
   "source": []
  }
 ],
 "metadata": {
  "kernelspec": {
   "display_name": "Python 3 (ipykernel)",
   "language": "python",
   "name": "python3"
  },
  "language_info": {
   "codemirror_mode": {
    "name": "ipython",
    "version": 3
   },
   "file_extension": ".py",
   "mimetype": "text/x-python",
   "name": "python",
   "nbconvert_exporter": "python",
   "pygments_lexer": "ipython3",
   "version": "3.11.6"
  }
 },
 "nbformat": 4,
 "nbformat_minor": 5
}
